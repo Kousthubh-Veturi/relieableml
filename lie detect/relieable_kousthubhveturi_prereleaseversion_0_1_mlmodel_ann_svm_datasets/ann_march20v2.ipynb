{
 "cells": [
  {
   "cell_type": "code",
   "execution_count": 1,
   "id": "b48855d4",
   "metadata": {},
   "outputs": [],
   "source": [
    "import numpy as py\n",
    "import pandas as pd\n",
    "from sklearn import preprocessing\n",
    "from sklearn.model_selection import train_test_split\n",
    "import keras\n",
    "from keras.layers import LayerNormalization\n",
    "import tensorflow as tf\n",
    "import time\n",
    "start_time = time.time()"
   ]
  },
  {
   "cell_type": "code",
   "execution_count": 2,
   "id": "03a42d5a",
   "metadata": {},
   "outputs": [],
   "source": [
    "df = pd.read_csv('truths.csv')\n",
    "df\n",
    "#dataset\n",
    "#ds = dataset.to_numpy()\n",
    "ds = pd.read_csv('a1dataset.csv')\n"
   ]
  },
  {
   "cell_type": "code",
   "execution_count": 3,
   "id": "2331db98",
   "metadata": {},
   "outputs": [
    {
     "data": {
      "text/plain": [
       "array([[43, 41, 42, ..., 73, 77,  1],\n",
       "       [42, 42, 41, ..., 73, 78,  1],\n",
       "       [44, 40, 43, ..., 74, 77,  1],\n",
       "       ...,\n",
       "       [40, 38, 39, ..., 72, 72,  0],\n",
       "       [40, 39, 39, ..., 72, 72,  0],\n",
       "       [40, 37, 40, ..., 72, 72,  0]])"
      ]
     },
     "execution_count": 3,
     "metadata": {},
     "output_type": "execute_result"
    }
   ],
   "source": [
    "dataset = df.values\n",
    "dataset"
   ]
  },
  {
   "cell_type": "code",
   "execution_count": 4,
   "id": "ae3aa66b",
   "metadata": {},
   "outputs": [],
   "source": [
    "X = dataset[:,0:135]\n",
    "Y = dataset[:,136]"
   ]
  },
  {
   "cell_type": "code",
   "execution_count": 5,
   "id": "f599acfb",
   "metadata": {},
   "outputs": [],
   "source": [
    "min_max_scaler = preprocessing.MinMaxScaler()\n",
    "X_scale = min_max_scaler.fit_transform(X)"
   ]
  },
  {
   "cell_type": "code",
   "execution_count": 6,
   "id": "1a6d54b1",
   "metadata": {},
   "outputs": [
    {
     "data": {
      "text/plain": [
       "array([[0.47222222, 0.44444444, 0.45945946, ..., 0.45454545, 0.51219512,\n",
       "        0.43181818],\n",
       "       [0.44444444, 0.5       , 0.43243243, ..., 0.47727273, 0.51219512,\n",
       "        0.43181818],\n",
       "       [0.5       , 0.38888889, 0.48648649, ..., 0.47727273, 0.51219512,\n",
       "        0.45454545],\n",
       "       ...,\n",
       "       [0.38888889, 0.27777778, 0.37837838, ..., 0.43181818, 0.36585366,\n",
       "        0.40909091],\n",
       "       [0.38888889, 0.33333333, 0.37837838, ..., 0.45454545, 0.36585366,\n",
       "        0.40909091],\n",
       "       [0.38888889, 0.22222222, 0.40540541, ..., 0.45454545, 0.36585366,\n",
       "        0.40909091]])"
      ]
     },
     "execution_count": 6,
     "metadata": {},
     "output_type": "execute_result"
    }
   ],
   "source": [
    "X_scale\n"
   ]
  },
  {
   "cell_type": "code",
   "execution_count": 7,
   "id": "c23b7267",
   "metadata": {},
   "outputs": [],
   "source": [
    "X_train, X_val_and_test, Y_train, Y_val_and_test = train_test_split(X_scale, Y, test_size=0.3)"
   ]
  },
  {
   "cell_type": "code",
   "execution_count": 8,
   "id": "18e1ca1c",
   "metadata": {},
   "outputs": [],
   "source": [
    "X_val, X_test, Y_val, Y_test = train_test_split(X_val_and_test, Y_val_and_test, test_size=1)"
   ]
  },
  {
   "cell_type": "code",
   "execution_count": 9,
   "id": "8c37a905",
   "metadata": {},
   "outputs": [
    {
     "name": "stdout",
     "output_type": "stream",
     "text": [
      "(5912, 135) (2534, 135) (1, 135) (5912,) (2534,) (1,)\n"
     ]
    }
   ],
   "source": [
    "print(X_train.shape, X_val.shape, X_test.shape, Y_train.shape, Y_val.shape, Y_test.shape)\n"
   ]
  },
  {
   "cell_type": "code",
   "execution_count": 10,
   "id": "edbd3306",
   "metadata": {},
   "outputs": [
    {
     "name": "stderr",
     "output_type": "stream",
     "text": [
      "2022-03-30 17:53:53.335020: I tensorflow/core/platform/cpu_feature_guard.cc:151] This TensorFlow binary is optimized with oneAPI Deep Neural Network Library (oneDNN) to use the following CPU instructions in performance-critical operations:  AVX2 FMA\n",
      "To enable them in other operations, rebuild TensorFlow with the appropriate compiler flags.\n"
     ]
    },
    {
     "name": "stdout",
     "output_type": "stream",
     "text": [
      "Epoch 1/10\n",
      "93/93 [==============================] - 1s 4ms/step - loss: 0.5828 - accuracy: 0.6905 - val_loss: 0.4868 - val_accuracy: 0.7735\n",
      "Epoch 2/10\n",
      "93/93 [==============================] - 0s 3ms/step - loss: 0.4363 - accuracy: 0.7941 - val_loss: 0.3925 - val_accuracy: 0.8106\n",
      "Epoch 3/10\n",
      "93/93 [==============================] - 0s 2ms/step - loss: 0.3505 - accuracy: 0.8204 - val_loss: 0.3227 - val_accuracy: 0.8362\n",
      "Epoch 4/10\n",
      "93/93 [==============================] - 0s 1ms/step - loss: 0.2994 - accuracy: 0.8466 - val_loss: 0.2764 - val_accuracy: 0.8706\n",
      "Epoch 5/10\n",
      "93/93 [==============================] - 0s 1ms/step - loss: 0.2557 - accuracy: 0.8865 - val_loss: 0.2442 - val_accuracy: 0.8875\n",
      "Epoch 6/10\n",
      "93/93 [==============================] - 0s 1ms/step - loss: 0.2142 - accuracy: 0.9230 - val_loss: 0.2011 - val_accuracy: 0.9290\n",
      "Epoch 7/10\n",
      "93/93 [==============================] - 0s 1ms/step - loss: 0.1688 - accuracy: 0.9523 - val_loss: 0.1556 - val_accuracy: 0.9546\n",
      "Epoch 8/10\n",
      "93/93 [==============================] - 0s 1ms/step - loss: 0.1443 - accuracy: 0.9550 - val_loss: 0.2194 - val_accuracy: 0.8899\n",
      "Epoch 9/10\n",
      "93/93 [==============================] - 0s 1ms/step - loss: 0.1195 - accuracy: 0.9621 - val_loss: 0.1157 - val_accuracy: 0.9605\n",
      "Epoch 10/10\n",
      "93/93 [==============================] - 0s 2ms/step - loss: 0.1014 - accuracy: 0.9653 - val_loss: 0.0920 - val_accuracy: 0.9696\n"
     ]
    }
   ],
   "source": [
    "from keras.models import Sequential\n",
    "from keras.layers import Dense\n",
    "model = Sequential([ Dense(32, activation='leaky_relu', input_shape=(135,)), Dense(32, activation='leaky_relu'), Dense(1, activation='sigmoid'), ])\n",
    "model.compile(optimizer='adam',loss='binary_crossentropy',metrics=['accuracy'])\n",
    "hist = model.fit(X_train, Y_train, batch_size=64, epochs=10, validation_data=(X_val, Y_val))"
   ]
  },
  {
   "cell_type": "code",
   "execution_count": 11,
   "id": "f4606569",
   "metadata": {},
   "outputs": [
    {
     "name": "stdout",
     "output_type": "stream",
     "text": [
      "185/185 [==============================] - 0s 956us/step - loss: 0.0824 - accuracy: 0.9756\n",
      "97.5642740726471 %\n"
     ]
    }
   ],
   "source": [
    "print(model.evaluate(X_train,Y_train)[1]*100,\"%\")\n",
    "#100.0% accuracy 20k epochs\n",
    "#96.43835425376892% accuracy 10k epochs\n",
    "#91.78082346916199% accuracy 2k epochs\n",
    "#92.05479621887207% accuracy 1k epochs\n",
    "#84.93150472640991% accuracy 100 epochs\n",
    "#52.054792642593384% accuracy 10 epochs"
   ]
  },
  {
   "cell_type": "code",
   "execution_count": 12,
   "id": "8641f750",
   "metadata": {},
   "outputs": [
    {
     "data": {
      "image/png": "[encoded data removed]",
      "text/plain": [
       "<Figure size 432x288 with 1 Axes>"
      ]
     },
     "metadata": {
      "needs_background": "light"
     },
     "output_type": "display_data"
    }
   ],
   "source": [
    "import matplotlib.pyplot as plt\n",
    "plt.plot(hist.history['accuracy'])\n",
    "plt.plot(hist.history['val_accuracy'])\n",
    "plt.title('Model accuracy')\n",
    "plt.ylabel('Accuracy')\n",
    "plt.xlabel('Epoch')\n",
    "plt.legend(['Train', 'Val'], loc='lower right')\n",
    "plt.show()"
   ]
  },
  {
   "cell_type": "code",
   "execution_count": 13,
   "id": "885b8146",
   "metadata": {},
   "outputs": [
    {
     "name": "stdout",
     "output_type": "stream",
     "text": [
      "Epoch 1/10\n",
      "93/93 [==============================] - 1s 3ms/step - loss: 2.3366 - accuracy: 0.7202 - val_loss: 1.4375 - val_accuracy: 0.7869\n",
      "Epoch 2/10\n",
      "93/93 [==============================] - 0s 2ms/step - loss: 1.0677 - accuracy: 0.8090 - val_loss: 0.7845 - val_accuracy: 0.8244\n",
      "Epoch 3/10\n",
      "93/93 [==============================] - 0s 3ms/step - loss: 0.6882 - accuracy: 0.8182 - val_loss: 0.5984 - val_accuracy: 0.8200\n",
      "Epoch 4/10\n",
      "93/93 [==============================] - 0s 2ms/step - loss: 0.5731 - accuracy: 0.8256 - val_loss: 0.5229 - val_accuracy: 0.8536\n",
      "Epoch 5/10\n",
      "93/93 [==============================] - 0s 2ms/step - loss: 0.5368 - accuracy: 0.8270 - val_loss: 0.5176 - val_accuracy: 0.8125\n",
      "Epoch 6/10\n",
      "93/93 [==============================] - 0s 2ms/step - loss: 0.5159 - accuracy: 0.8298 - val_loss: 0.4781 - val_accuracy: 0.8441\n",
      "Epoch 7/10\n",
      "93/93 [==============================] - 0s 2ms/step - loss: 0.4977 - accuracy: 0.8346 - val_loss: 0.4565 - val_accuracy: 0.8658\n",
      "Epoch 8/10\n",
      "93/93 [==============================] - 0s 3ms/step - loss: 0.4880 - accuracy: 0.8442 - val_loss: 0.4718 - val_accuracy: 0.8567\n",
      "Epoch 9/10\n",
      "93/93 [==============================] - 0s 2ms/step - loss: 0.4847 - accuracy: 0.8398 - val_loss: 0.4438 - val_accuracy: 0.8425\n",
      "Epoch 10/10\n",
      "93/93 [==============================] - 0s 2ms/step - loss: 0.4781 - accuracy: 0.8478 - val_loss: 0.4496 - val_accuracy: 0.8508\n"
     ]
    }
   ],
   "source": [
    "from keras.layers import Dropout\n",
    "from keras import regularizers\n",
    "reg = Sequential([\n",
    "    Dense(64, activation='leaky_relu', kernel_regularizer=regularizers.l2(0.01), input_shape=(135,)),\n",
    "    Dropout(0.3),\n",
    "    Dense(64, activation='leaky_relu', kernel_regularizer=regularizers.l2(0.01)),\n",
    "    Dropout(0.3),\n",
    "    Dense(64, activation='leaky_relu', kernel_regularizer=regularizers.l2(0.01)),\n",
    "    Dropout(0.3),\n",
    "    Dense(64, activation='leaky_relu', kernel_regularizer=regularizers.l2(0.01)),\n",
    "    Dropout(0.3),\n",
    "    Dense(1, activation='sigmoid', kernel_regularizer=regularizers.l2(0.01)),\n",
    "])\n",
    "reg.compile(optimizer='adam',\n",
    "              loss='binary_crossentropy',\n",
    "              metrics=['accuracy'])\n",
    "              \n",
    "hreg = reg.fit(X_train, Y_train,\n",
    "          batch_size=64, epochs=10,\n",
    "          validation_data=(X_val, Y_val))\n"
   ]
  },
  {
   "cell_type": "code",
   "execution_count": 14,
   "id": "5b2cc886",
   "metadata": {},
   "outputs": [
    {
     "name": "stdout",
     "output_type": "stream",
     "text": [
      "185/185 [==============================] - 0s 894us/step - loss: 0.4446 - accuracy: 0.8520\n",
      "85.19959449768066 %\n"
     ]
    }
   ],
   "source": [
    "print(reg.evaluate(X_train,Y_train)[1]*100,\"%\")"
   ]
  },
  {
   "cell_type": "code",
   "execution_count": 15,
   "id": "b3812d5a",
   "metadata": {},
   "outputs": [
    {
     "data": {
      "image/png": "[encoded data removed]",
      "text/plain": [
       "<Figure size 432x288 with 1 Axes>"
      ]
     },
     "metadata": {
      "needs_background": "light"
     },
     "output_type": "display_data"
    }
   ],
   "source": [
    "plt.plot(hreg.history['loss'])\n",
    "plt.plot(hreg.history['val_loss'])\n",
    "plt.title('Model loss')\n",
    "plt.ylabel('Loss')\n",
    "plt.xlabel('Epoch')\n",
    "plt.legend(['Train', 'Val'], loc='upper right')\n",
    "plt.ylim(top=1.2, bottom=0)\n",
    "plt.show()"
   ]
  },
  {
   "cell_type": "code",
   "execution_count": 16,
   "id": "d1783d47",
   "metadata": {},
   "outputs": [
    {
     "name": "stdout",
     "output_type": "stream",
     "text": [
      "7.973205089569092\n"
     ]
    }
   ],
   "source": [
    "print(\"%s\" % (time.time() - start_time))"
   ]
  },
  {
   "cell_type": "code",
   "execution_count": 39,
   "id": "e9f8498b",
   "metadata": {},
   "outputs": [],
   "source": [
    "\n",
    "\n",
    "y_pred_test = reg.predict(X)"
   ]
  },
  {
   "cell_type": "code",
   "execution_count": 43,
   "id": "8463cc30",
   "metadata": {},
   "outputs": [
    {
     "data": {
      "text/plain": [
       "array([0, 0, 0, ..., 0, 0, 0])"
      ]
     },
     "execution_count": 43,
     "metadata": {},
     "output_type": "execute_result"
    }
   ],
   "source": [
    "y_pred_test\n",
    "\n",
    "Y_train\n",
    "\n"
   ]
  }
 ],
 "metadata": {
  "kernelspec": {
   "display_name": "Python 3 (ipykernel)",
   "language": "python",
   "name": "python3"
  },
  "language_info": {
   "codemirror_mode": {
    "name": "ipython",
    "version": 3
   },
   "file_extension": ".py",
   "mimetype": "text/x-python",
   "name": "python",
   "nbconvert_exporter": "python",
   "pygments_lexer": "ipython3",
   "version": "3.8.8"
  }
 },
 "nbformat": 4,
 "nbformat_minor": 5
}
