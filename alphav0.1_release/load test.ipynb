{
 "cells": [
  {
   "cell_type": "code",
   "execution_count": 1,
   "id": "91b62986",
   "metadata": {},
   "outputs": [],
   "source": [
    "import tensorflow as tf\n",
    "import keras"
   ]
  },
  {
   "cell_type": "code",
   "execution_count": 2,
   "id": "59d668bd",
   "metadata": {},
   "outputs": [
    {
     "name": "stderr",
     "output_type": "stream",
     "text": [
      "2022-04-08 20:05:50.114394: I tensorflow/core/platform/cpu_feature_guard.cc:151] This TensorFlow binary is optimized with oneAPI Deep Neural Network Library (oneDNN) to use the following CPU instructions in performance-critical operations:  AVX2 FMA\n",
      "To enable them in other operations, rebuild TensorFlow with the appropriate compiler flags.\n"
     ]
    }
   ],
   "source": [
    "model = keras.models.load_model(\"ANNdoc.h5\")"
   ]
  },
  {
   "cell_type": "code",
   "execution_count": 3,
   "id": "b16b032a",
   "metadata": {},
   "outputs": [],
   "source": [
    "import numpy as py\n",
    "import pandas as pd\n",
    "from sklearn import preprocessing\n",
    "from sklearn.model_selection import train_test_split\n",
    "import keras\n",
    "from keras.layers import LayerNormalization\n",
    "import tensorflow as tf\n",
    "import time\n",
    "import numba\n",
    "start_time = time.time()"
   ]
  },
  {
   "cell_type": "code",
   "execution_count": 4,
   "id": "4f490de4",
   "metadata": {},
   "outputs": [],
   "source": [
    "import pandas as pd\n",
    "import numpy as np\n",
    "#dataset = pd.read_csv('/Users/kousthubhveturi/Documents/GitHub/MachineLearningModels/lie detect/Data_for_Lie_Detection.csv')\n",
    "dataset = pd.read_csv('https://raw.githubusercontent.com/Samin005/Lie-Detection-Using-Facial-Landmarks/master/data/Data_for_Lie_Detection%2016.csv')\n",
    "daaset = dataset.values\n",
    "X = daaset[:,0:135]\n",
    "aY = daaset[:,136]\n",
    "min_max_scaler = preprocessing.MinMaxScaler()\n",
    "\n",
    "X = min_max_scaler.fit_transform(X)\n"
   ]
  },
  {
   "cell_type": "code",
   "execution_count": 5,
   "id": "a7036af7",
   "metadata": {},
   "outputs": [],
   "source": [
    "a = model.predict(X)"
   ]
  },
  {
   "cell_type": "code",
   "execution_count": 6,
   "id": "b34ebfa5",
   "metadata": {},
   "outputs": [],
   "source": [
    "b = len(a)"
   ]
  },
  {
   "cell_type": "code",
   "execution_count": 7,
   "id": "ad948874",
   "metadata": {},
   "outputs": [],
   "source": [
    "for i in range(b):\n",
    "    if a[i]>=0.95:\n",
    "        a[i]=1.0\n",
    "    else:\n",
    "        a[i]=0.0\n",
    "    \n",
    "    "
   ]
  },
  {
   "cell_type": "code",
   "execution_count": 8,
   "id": "5d4a85f0",
   "metadata": {},
   "outputs": [],
   "source": [
    "a= a.astype(int)"
   ]
  },
  {
   "cell_type": "code",
   "execution_count": 9,
   "id": "4912206c",
   "metadata": {},
   "outputs": [
    {
     "name": "stdout",
     "output_type": "stream",
     "text": [
      "100.0 %\n"
     ]
    }
   ],
   "source": [
    "count = 0\n",
    "\n",
    "for i in a:\n",
    "    if a[i]==aY[i]:\n",
    "        count = count + 1\n",
    "count = float(count)\n",
    "\n",
    "totall = float(count/b) * 100.00\n",
    "print(totall,\"%\")"
   ]
  },
  {
   "cell_type": "code",
   "execution_count": null,
   "id": "2c4566f1",
   "metadata": {},
   "outputs": [],
   "source": []
  }
 ],
 "metadata": {
  "kernelspec": {
   "display_name": "Python 3 (ipykernel)",
   "language": "python",
   "name": "python3"
  },
  "language_info": {
   "codemirror_mode": {
    "name": "ipython",
    "version": 3
   },
   "file_extension": ".py",
   "mimetype": "text/x-python",
   "name": "python",
   "nbconvert_exporter": "python",
   "pygments_lexer": "ipython3",
   "version": "3.8.8"
  }
 },
 "nbformat": 4,
 "nbformat_minor": 5
}
