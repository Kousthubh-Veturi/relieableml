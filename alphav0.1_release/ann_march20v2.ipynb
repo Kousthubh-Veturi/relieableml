{
 "cells": [
  {
   "cell_type": "code",
   "execution_count": 83,
   "id": "b48855d4",
   "metadata": {},
   "outputs": [],
   "source": [
    "import numpy as py\n",
    "import pandas as pd\n",
    "from sklearn import preprocessing\n",
    "from sklearn.model_selection import train_test_split\n",
    "import keras\n",
    "from keras.layers import LayerNormalization\n",
    "import tensorflow as tf\n",
    "import time\n",
    "import numba\n",
    "start_time = time.time()\n"
   ]
  },
  {
   "cell_type": "code",
   "execution_count": 84,
   "id": "03a42d5a",
   "metadata": {},
   "outputs": [
    {
     "data": {
      "text/html": [
       "<div>\n",
       "<style scoped>\n",
       "    .dataframe tbody tr th:only-of-type {\n",
       "        vertical-align: middle;\n",
       "    }\n",
       "\n",
       "    .dataframe tbody tr th {\n",
       "        vertical-align: top;\n",
       "    }\n",
       "\n",
       "    .dataframe thead th {\n",
       "        text-align: right;\n",
       "    }\n",
       "</style>\n",
       "<table border=\"1\" class=\"dataframe\">\n",
       "  <thead>\n",
       "    <tr style=\"text-align: right;\">\n",
       "      <th></th>\n",
       "      <th>1_x</th>\n",
       "      <th>1_y</th>\n",
       "      <th>2_x</th>\n",
       "      <th>2_y</th>\n",
       "      <th>3_x</th>\n",
       "      <th>3_y</th>\n",
       "      <th>4_x</th>\n",
       "      <th>4_y</th>\n",
       "      <th>5_x</th>\n",
       "      <th>5_y</th>\n",
       "      <th>...</th>\n",
       "      <th>64_y</th>\n",
       "      <th>65_x</th>\n",
       "      <th>65_y</th>\n",
       "      <th>66_x</th>\n",
       "      <th>66_y</th>\n",
       "      <th>67_x</th>\n",
       "      <th>67_y</th>\n",
       "      <th>68_x</th>\n",
       "      <th>68_y</th>\n",
       "      <th>is_Truth</th>\n",
       "    </tr>\n",
       "  </thead>\n",
       "  <tbody>\n",
       "    <tr>\n",
       "      <th>0</th>\n",
       "      <td>43</td>\n",
       "      <td>41</td>\n",
       "      <td>42</td>\n",
       "      <td>51</td>\n",
       "      <td>43</td>\n",
       "      <td>61</td>\n",
       "      <td>45</td>\n",
       "      <td>71</td>\n",
       "      <td>49</td>\n",
       "      <td>81</td>\n",
       "      <td>...</td>\n",
       "      <td>77</td>\n",
       "      <td>92</td>\n",
       "      <td>78</td>\n",
       "      <td>82</td>\n",
       "      <td>77</td>\n",
       "      <td>77</td>\n",
       "      <td>78</td>\n",
       "      <td>73</td>\n",
       "      <td>77</td>\n",
       "      <td>1</td>\n",
       "    </tr>\n",
       "    <tr>\n",
       "      <th>1</th>\n",
       "      <td>42</td>\n",
       "      <td>42</td>\n",
       "      <td>41</td>\n",
       "      <td>52</td>\n",
       "      <td>43</td>\n",
       "      <td>63</td>\n",
       "      <td>45</td>\n",
       "      <td>74</td>\n",
       "      <td>47</td>\n",
       "      <td>83</td>\n",
       "      <td>...</td>\n",
       "      <td>77</td>\n",
       "      <td>92</td>\n",
       "      <td>79</td>\n",
       "      <td>82</td>\n",
       "      <td>77</td>\n",
       "      <td>78</td>\n",
       "      <td>78</td>\n",
       "      <td>73</td>\n",
       "      <td>78</td>\n",
       "      <td>1</td>\n",
       "    </tr>\n",
       "    <tr>\n",
       "      <th>2</th>\n",
       "      <td>44</td>\n",
       "      <td>40</td>\n",
       "      <td>43</td>\n",
       "      <td>50</td>\n",
       "      <td>45</td>\n",
       "      <td>61</td>\n",
       "      <td>47</td>\n",
       "      <td>72</td>\n",
       "      <td>49</td>\n",
       "      <td>82</td>\n",
       "      <td>...</td>\n",
       "      <td>77</td>\n",
       "      <td>91</td>\n",
       "      <td>78</td>\n",
       "      <td>82</td>\n",
       "      <td>77</td>\n",
       "      <td>78</td>\n",
       "      <td>78</td>\n",
       "      <td>74</td>\n",
       "      <td>77</td>\n",
       "      <td>1</td>\n",
       "    </tr>\n",
       "    <tr>\n",
       "      <th>3</th>\n",
       "      <td>42</td>\n",
       "      <td>41</td>\n",
       "      <td>42</td>\n",
       "      <td>51</td>\n",
       "      <td>43</td>\n",
       "      <td>62</td>\n",
       "      <td>45</td>\n",
       "      <td>73</td>\n",
       "      <td>48</td>\n",
       "      <td>83</td>\n",
       "      <td>...</td>\n",
       "      <td>77</td>\n",
       "      <td>91</td>\n",
       "      <td>79</td>\n",
       "      <td>82</td>\n",
       "      <td>77</td>\n",
       "      <td>77</td>\n",
       "      <td>78</td>\n",
       "      <td>73</td>\n",
       "      <td>78</td>\n",
       "      <td>1</td>\n",
       "    </tr>\n",
       "    <tr>\n",
       "      <th>4</th>\n",
       "      <td>43</td>\n",
       "      <td>40</td>\n",
       "      <td>42</td>\n",
       "      <td>50</td>\n",
       "      <td>44</td>\n",
       "      <td>61</td>\n",
       "      <td>46</td>\n",
       "      <td>72</td>\n",
       "      <td>48</td>\n",
       "      <td>82</td>\n",
       "      <td>...</td>\n",
       "      <td>77</td>\n",
       "      <td>91</td>\n",
       "      <td>79</td>\n",
       "      <td>82</td>\n",
       "      <td>77</td>\n",
       "      <td>77</td>\n",
       "      <td>78</td>\n",
       "      <td>73</td>\n",
       "      <td>77</td>\n",
       "      <td>1</td>\n",
       "    </tr>\n",
       "    <tr>\n",
       "      <th>...</th>\n",
       "      <td>...</td>\n",
       "      <td>...</td>\n",
       "      <td>...</td>\n",
       "      <td>...</td>\n",
       "      <td>...</td>\n",
       "      <td>...</td>\n",
       "      <td>...</td>\n",
       "      <td>...</td>\n",
       "      <td>...</td>\n",
       "      <td>...</td>\n",
       "      <td>...</td>\n",
       "      <td>...</td>\n",
       "      <td>...</td>\n",
       "      <td>...</td>\n",
       "      <td>...</td>\n",
       "      <td>...</td>\n",
       "      <td>...</td>\n",
       "      <td>...</td>\n",
       "      <td>...</td>\n",
       "      <td>...</td>\n",
       "      <td>...</td>\n",
       "    </tr>\n",
       "    <tr>\n",
       "      <th>8442</th>\n",
       "      <td>39</td>\n",
       "      <td>38</td>\n",
       "      <td>38</td>\n",
       "      <td>47</td>\n",
       "      <td>39</td>\n",
       "      <td>57</td>\n",
       "      <td>41</td>\n",
       "      <td>67</td>\n",
       "      <td>44</td>\n",
       "      <td>76</td>\n",
       "      <td>...</td>\n",
       "      <td>68</td>\n",
       "      <td>93</td>\n",
       "      <td>68</td>\n",
       "      <td>82</td>\n",
       "      <td>72</td>\n",
       "      <td>76</td>\n",
       "      <td>73</td>\n",
       "      <td>72</td>\n",
       "      <td>72</td>\n",
       "      <td>0</td>\n",
       "    </tr>\n",
       "    <tr>\n",
       "      <th>8443</th>\n",
       "      <td>39</td>\n",
       "      <td>38</td>\n",
       "      <td>39</td>\n",
       "      <td>47</td>\n",
       "      <td>39</td>\n",
       "      <td>57</td>\n",
       "      <td>41</td>\n",
       "      <td>68</td>\n",
       "      <td>44</td>\n",
       "      <td>77</td>\n",
       "      <td>...</td>\n",
       "      <td>68</td>\n",
       "      <td>93</td>\n",
       "      <td>68</td>\n",
       "      <td>82</td>\n",
       "      <td>71</td>\n",
       "      <td>77</td>\n",
       "      <td>73</td>\n",
       "      <td>72</td>\n",
       "      <td>72</td>\n",
       "      <td>0</td>\n",
       "    </tr>\n",
       "    <tr>\n",
       "      <th>8444</th>\n",
       "      <td>40</td>\n",
       "      <td>38</td>\n",
       "      <td>39</td>\n",
       "      <td>47</td>\n",
       "      <td>40</td>\n",
       "      <td>56</td>\n",
       "      <td>42</td>\n",
       "      <td>66</td>\n",
       "      <td>44</td>\n",
       "      <td>76</td>\n",
       "      <td>...</td>\n",
       "      <td>68</td>\n",
       "      <td>93</td>\n",
       "      <td>68</td>\n",
       "      <td>82</td>\n",
       "      <td>71</td>\n",
       "      <td>76</td>\n",
       "      <td>72</td>\n",
       "      <td>72</td>\n",
       "      <td>72</td>\n",
       "      <td>0</td>\n",
       "    </tr>\n",
       "    <tr>\n",
       "      <th>8445</th>\n",
       "      <td>40</td>\n",
       "      <td>39</td>\n",
       "      <td>39</td>\n",
       "      <td>48</td>\n",
       "      <td>40</td>\n",
       "      <td>57</td>\n",
       "      <td>42</td>\n",
       "      <td>67</td>\n",
       "      <td>44</td>\n",
       "      <td>76</td>\n",
       "      <td>...</td>\n",
       "      <td>68</td>\n",
       "      <td>92</td>\n",
       "      <td>68</td>\n",
       "      <td>82</td>\n",
       "      <td>71</td>\n",
       "      <td>77</td>\n",
       "      <td>72</td>\n",
       "      <td>72</td>\n",
       "      <td>72</td>\n",
       "      <td>0</td>\n",
       "    </tr>\n",
       "    <tr>\n",
       "      <th>8446</th>\n",
       "      <td>40</td>\n",
       "      <td>37</td>\n",
       "      <td>40</td>\n",
       "      <td>47</td>\n",
       "      <td>40</td>\n",
       "      <td>57</td>\n",
       "      <td>42</td>\n",
       "      <td>67</td>\n",
       "      <td>45</td>\n",
       "      <td>77</td>\n",
       "      <td>...</td>\n",
       "      <td>70</td>\n",
       "      <td>92</td>\n",
       "      <td>69</td>\n",
       "      <td>81</td>\n",
       "      <td>71</td>\n",
       "      <td>77</td>\n",
       "      <td>72</td>\n",
       "      <td>72</td>\n",
       "      <td>72</td>\n",
       "      <td>0</td>\n",
       "    </tr>\n",
       "  </tbody>\n",
       "</table>\n",
       "<p>8447 rows × 137 columns</p>\n",
       "</div>"
      ],
      "text/plain": [
       "      1_x  1_y  2_x  2_y  3_x  3_y  4_x  4_y  5_x  5_y  ...  64_y  65_x  65_y  \\\n",
       "0      43   41   42   51   43   61   45   71   49   81  ...    77    92    78   \n",
       "1      42   42   41   52   43   63   45   74   47   83  ...    77    92    79   \n",
       "2      44   40   43   50   45   61   47   72   49   82  ...    77    91    78   \n",
       "3      42   41   42   51   43   62   45   73   48   83  ...    77    91    79   \n",
       "4      43   40   42   50   44   61   46   72   48   82  ...    77    91    79   \n",
       "...   ...  ...  ...  ...  ...  ...  ...  ...  ...  ...  ...   ...   ...   ...   \n",
       "8442   39   38   38   47   39   57   41   67   44   76  ...    68    93    68   \n",
       "8443   39   38   39   47   39   57   41   68   44   77  ...    68    93    68   \n",
       "8444   40   38   39   47   40   56   42   66   44   76  ...    68    93    68   \n",
       "8445   40   39   39   48   40   57   42   67   44   76  ...    68    92    68   \n",
       "8446   40   37   40   47   40   57   42   67   45   77  ...    70    92    69   \n",
       "\n",
       "      66_x  66_y  67_x  67_y  68_x  68_y  is_Truth  \n",
       "0       82    77    77    78    73    77         1  \n",
       "1       82    77    78    78    73    78         1  \n",
       "2       82    77    78    78    74    77         1  \n",
       "3       82    77    77    78    73    78         1  \n",
       "4       82    77    77    78    73    77         1  \n",
       "...    ...   ...   ...   ...   ...   ...       ...  \n",
       "8442    82    72    76    73    72    72         0  \n",
       "8443    82    71    77    73    72    72         0  \n",
       "8444    82    71    76    72    72    72         0  \n",
       "8445    82    71    77    72    72    72         0  \n",
       "8446    81    71    77    72    72    72         0  \n",
       "\n",
       "[8447 rows x 137 columns]"
      ]
     },
     "execution_count": 84,
     "metadata": {},
     "output_type": "execute_result"
    }
   ],
   "source": [
    "df = pd.read_csv('truths.csv')\n",
    "df"
   ]
  },
  {
   "cell_type": "code",
   "execution_count": 85,
   "id": "2331db98",
   "metadata": {},
   "outputs": [
    {
     "data": {
      "text/plain": [
       "array([[43, 41, 42, ..., 73, 77,  1],\n",
       "       [42, 42, 41, ..., 73, 78,  1],\n",
       "       [44, 40, 43, ..., 74, 77,  1],\n",
       "       ...,\n",
       "       [40, 38, 39, ..., 72, 72,  0],\n",
       "       [40, 39, 39, ..., 72, 72,  0],\n",
       "       [40, 37, 40, ..., 72, 72,  0]])"
      ]
     },
     "execution_count": 85,
     "metadata": {},
     "output_type": "execute_result"
    }
   ],
   "source": [
    "dataset = df.values\n",
    "dataset"
   ]
  },
  {
   "cell_type": "code",
   "execution_count": 86,
   "id": "ae3aa66b",
   "metadata": {},
   "outputs": [],
   "source": [
    "X = dataset[:,0:135]\n",
    "Y = dataset[:,136]"
   ]
  },
  {
   "cell_type": "code",
   "execution_count": 87,
   "id": "f599acfb",
   "metadata": {},
   "outputs": [],
   "source": [
    "min_max_scaler = preprocessing.MinMaxScaler()\n",
    "X_scale = min_max_scaler.fit_transform(X)"
   ]
  },
  {
   "cell_type": "code",
   "execution_count": 88,
   "id": "1a6d54b1",
   "metadata": {},
   "outputs": [
    {
     "data": {
      "text/plain": [
       "array([[0.47222222, 0.44444444, 0.45945946, ..., 0.45454545, 0.51219512,\n",
       "        0.43181818],\n",
       "       [0.44444444, 0.5       , 0.43243243, ..., 0.47727273, 0.51219512,\n",
       "        0.43181818],\n",
       "       [0.5       , 0.38888889, 0.48648649, ..., 0.47727273, 0.51219512,\n",
       "        0.45454545],\n",
       "       ...,\n",
       "       [0.38888889, 0.27777778, 0.37837838, ..., 0.43181818, 0.36585366,\n",
       "        0.40909091],\n",
       "       [0.38888889, 0.33333333, 0.37837838, ..., 0.45454545, 0.36585366,\n",
       "        0.40909091],\n",
       "       [0.38888889, 0.22222222, 0.40540541, ..., 0.45454545, 0.36585366,\n",
       "        0.40909091]])"
      ]
     },
     "execution_count": 88,
     "metadata": {},
     "output_type": "execute_result"
    }
   ],
   "source": [
    "X_scale\n"
   ]
  },
  {
   "cell_type": "code",
   "execution_count": 89,
   "id": "c23b7267",
   "metadata": {},
   "outputs": [],
   "source": [
    "X_train, X_val_and_test, Y_train, Y_val_and_test = train_test_split(X_scale, Y, test_size=0.3)"
   ]
  },
  {
   "cell_type": "code",
   "execution_count": 90,
   "id": "18e1ca1c",
   "metadata": {},
   "outputs": [],
   "source": [
    "X_val, X_test, Y_val, Y_test = train_test_split(X_val_and_test, Y_val_and_test, test_size=1)"
   ]
  },
  {
   "cell_type": "code",
   "execution_count": 91,
   "id": "8c37a905",
   "metadata": {},
   "outputs": [
    {
     "name": "stdout",
     "output_type": "stream",
     "text": [
      "(5912, 135) (2534, 135) (1, 135) (5912,) (2534,) (1,)\n"
     ]
    }
   ],
   "source": [
    "print(X_train.shape, X_val.shape, X_test.shape, Y_train.shape, Y_val.shape, Y_test.shape)\n"
   ]
  },
  {
   "cell_type": "code",
   "execution_count": 92,
   "id": "edbd3306",
   "metadata": {},
   "outputs": [
    {
     "name": "stdout",
     "output_type": "stream",
     "text": [
      "Epoch 1/3\n",
      "93/93 [==============================] - 2s 6ms/step - loss: 0.3343 - accuracy: 0.8195 - val_loss: 0.1878 - val_accuracy: 0.9357\n",
      "Epoch 2/3\n",
      "93/93 [==============================] - 0s 4ms/step - loss: 0.1739 - accuracy: 0.9252 - val_loss: 0.0795 - val_accuracy: 0.9716\n",
      "Epoch 3/3\n",
      "93/93 [==============================] - 0s 4ms/step - loss: 0.0991 - accuracy: 0.9609 - val_loss: 0.0868 - val_accuracy: 0.9665\n"
     ]
    }
   ],
   "source": [
    "from keras.models import Sequential\n",
    "from tensorflow.keras import datasets, layers, models\n",
    "\n",
    "from keras.layers import Dense\n",
    "model = Sequential([ Dense(512, activation='leaky_relu', input_shape=(135,))\n",
    "                    , Dense(512, activation='leaky_relu', input_shape=(135,))\n",
    "                    , Dense(512, activation='leaky_relu', input_shape=(135,))\n",
    "                    , Dense(512, activation='leaky_relu')\n",
    "                    , Dense(1, activation='sigmoid'), ])\n",
    "\n",
    "model.compile(optimizer='adam',loss='binary_crossentropy',metrics=['accuracy'])\n",
    "hist = model.fit(X_train, Y_train, batch_size=64, epochs=3, validation_data=(X_val, Y_val))"
   ]
  },
  {
   "cell_type": "code",
   "execution_count": 93,
   "id": "f4606569",
   "metadata": {},
   "outputs": [
    {
     "name": "stdout",
     "output_type": "stream",
     "text": [
      "185/185 [==============================] - 0s 1ms/step - loss: 0.0793 - accuracy: 0.9684\n",
      "96.83694243431091 %\n"
     ]
    }
   ],
   "source": [
    "print(model.evaluate(X_train,Y_train)[1]*100,\"%\")\n",
    "#100.0% accuracy 20k epochs\n",
    "#96.43835425376892% accuracy 10k epochs\n",
    "#91.78082346916199% accuracy 2k epochs\n",
    "#92.05479621887207% accuracy 1k epochs\n",
    "#84.93150472640991% accuracy 100 epochs\n",
    "#52.054792642593384% accuracy 10 epochs"
   ]
  },
  {
   "cell_type": "code",
   "execution_count": 94,
   "id": "8641f750",
   "metadata": {},
   "outputs": [
    {
     "data": {
      "image/png": "[encoded data removed]",
      "text/plain": [
       "<Figure size 432x288 with 1 Axes>"
      ]
     },
     "metadata": {
      "needs_background": "light"
     },
     "output_type": "display_data"
    }
   ],
   "source": [
    "import matplotlib.pyplot as plt\n",
    "plt.plot(hist.history['accuracy'])\n",
    "plt.plot(hist.history['val_accuracy'])\n",
    "plt.title('Model accuracy')\n",
    "plt.ylabel('Accuracy')\n",
    "plt.xlabel('Epoch')\n",
    "plt.legend(['Train', 'Val'], loc='lower right')\n",
    "plt.show()"
   ]
  },
  {
   "cell_type": "code",
   "execution_count": 95,
   "id": "01132ac5",
   "metadata": {},
   "outputs": [
    {
     "name": "stdout",
     "output_type": "stream",
     "text": [
      "Epoch 1/7\n",
      "93/93 [==============================] - 1s 3ms/step - loss: 0.4771 - accuracy: 0.8007 - val_loss: 0.3097 - val_accuracy: 0.8528\n",
      "Epoch 2/7\n",
      "93/93 [==============================] - 0s 2ms/step - loss: 0.3297 - accuracy: 0.8451 - val_loss: 0.2747 - val_accuracy: 0.8990\n",
      "Epoch 3/7\n",
      "93/93 [==============================] - 0s 2ms/step - loss: 0.2771 - accuracy: 0.8809 - val_loss: 0.2102 - val_accuracy: 0.9006\n",
      "Epoch 4/7\n",
      "93/93 [==============================] - 0s 2ms/step - loss: 0.1924 - accuracy: 0.9264 - val_loss: 0.1695 - val_accuracy: 0.9219\n",
      "Epoch 5/7\n",
      "93/93 [==============================] - 0s 2ms/step - loss: 1.7505 - accuracy: 0.7525 - val_loss: 0.4116 - val_accuracy: 0.8366\n",
      "Epoch 6/7\n",
      "93/93 [==============================] - 0s 2ms/step - loss: 0.5126 - accuracy: 0.8168 - val_loss: 0.2826 - val_accuracy: 0.8856\n",
      "Epoch 7/7\n",
      "93/93 [==============================] - 0s 2ms/step - loss: 0.2871 - accuracy: 0.8637 - val_loss: 0.2146 - val_accuracy: 0.9081\n"
     ]
    }
   ],
   "source": [
    "from keras.layers import Dropout\n",
    "from keras import regularizers\n",
    "reg = Sequential([\n",
    "    Dense(128, activation='relu', kernel_regularizer=regularizers.l2(0.0001), input_shape=(135,)),\n",
    "    Dropout(0.1),\n",
    "    Dense(128, activation='relu', kernel_regularizer=regularizers.l2(0.0001)),\n",
    "    Dropout(0.1),\n",
    "    Dense(1, activation='leaky_relu', kernel_regularizer=regularizers.l2(0.0001)),\n",
    "])\n",
    "reg.compile(optimizer='adam',\n",
    "              loss='binary_crossentropy',\n",
    "              metrics=['accuracy'])\n",
    "              \n",
    "hreg = reg.fit(X_train, Y_train,\n",
    "          batch_size=64, epochs=7,\n",
    "          validation_data=(X_val, Y_val))\n"
   ]
  },
  {
   "cell_type": "code",
   "execution_count": 96,
   "id": "5b2cc886",
   "metadata": {},
   "outputs": [
    {
     "name": "stdout",
     "output_type": "stream",
     "text": [
      "185/185 [==============================] - 0s 690us/step - loss: 0.2064 - accuracy: 0.9141\n",
      "91.40730500221252 %\n"
     ]
    }
   ],
   "source": [
    "print(reg.evaluate(X_train,Y_train)[1]*100,\"%\")"
   ]
  },
  {
   "cell_type": "code",
   "execution_count": 97,
   "id": "b3812d5a",
   "metadata": {},
   "outputs": [
    {
     "data": {
      "image/png": "[encoded data removed]",
      "text/plain": [
       "<Figure size 432x288 with 1 Axes>"
      ]
     },
     "metadata": {
      "needs_background": "light"
     },
     "output_type": "display_data"
    }
   ],
   "source": [
    "plt.plot(hreg.history['loss'])\n",
    "plt.plot(hreg.history['val_loss'])\n",
    "plt.title('Model loss')\n",
    "plt.ylabel('Loss')\n",
    "plt.xlabel('Epoch')\n",
    "plt.legend(['Train', 'Val'], loc='upper right')\n",
    "plt.ylim(top=1.2, bottom=0)\n",
    "plt.show()"
   ]
  },
  {
   "cell_type": "code",
   "execution_count": 98,
   "id": "c3de3e7f",
   "metadata": {},
   "outputs": [
    {
     "name": "stdout",
     "output_type": "stream",
     "text": [
      "5.119593143463135\n"
     ]
    }
   ],
   "source": [
    "print(\"%s\" % (time.time() - start_time))"
   ]
  },
  {
   "cell_type": "code",
   "execution_count": 99,
   "id": "6d42eda8",
   "metadata": {},
   "outputs": [],
   "source": [
    "import pickle"
   ]
  },
  {
   "cell_type": "code",
   "execution_count": 100,
   "id": "d0ae3f2d",
   "metadata": {},
   "outputs": [],
   "source": [
    "ds = pd.read_csv('https://raw.githubusercontent.com/Samin005/Lie-Detection-Using-Facial-Landmarks/master/data/Data_for_Lie_Detection%203.csv')\n",
    "aa = ds.values\n",
    "\n",
    "aX = aa[:,0:135]\n",
    "aY = aa[:,136]\n",
    "aX = min_max_scaler.fit_transform(aX)\n",
    "predss = reg.predict(aX)"
   ]
  },
  {
   "cell_type": "code",
   "execution_count": 101,
   "id": "54522762",
   "metadata": {},
   "outputs": [],
   "source": [
    "#predss\n",
    "#aY\n",
    "predsss = predss.astype(int)\n",
    "#predsss\n",
    "for i in predsss:\n",
    "    if predsss[i]>=1:\n",
    "        predsss[i]=1\n",
    "\n",
    "import numpy as np\n",
    "#predsss.shape"
   ]
  },
  {
   "cell_type": "code",
   "execution_count": 102,
   "id": "5ba4ec97",
   "metadata": {},
   "outputs": [
    {
     "data": {
      "text/plain": [
       "1.0"
      ]
     },
     "execution_count": 102,
     "metadata": {},
     "output_type": "execute_result"
    }
   ],
   "source": [
    "count = 0\n",
    "\n",
    "for i in predsss:\n",
    "    if predsss[i]==aY[i]:\n",
    "        count = count + 1\n",
    "\n",
    "totall = float(count/3601)\n",
    "totall"
   ]
  }
 ],
 "metadata": {
  "kernelspec": {
   "display_name": "Python 3 (ipykernel)",
   "language": "python",
   "name": "python3"
  },
  "language_info": {
   "codemirror_mode": {
    "name": "ipython",
    "version": 3
   },
   "file_extension": ".py",
   "mimetype": "text/x-python",
   "name": "python",
   "nbconvert_exporter": "python",
   "pygments_lexer": "ipython3",
   "version": "3.8.8"
  }
 },
 "nbformat": 4,
 "nbformat_minor": 5
}
